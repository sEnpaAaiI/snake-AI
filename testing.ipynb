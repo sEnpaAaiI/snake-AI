{
 "cells": [
  {
   "cell_type": "code",
   "execution_count": 1,
   "metadata": {},
   "outputs": [
    {
     "name": "stdout",
     "output_type": "stream",
     "text": [
      "{'x': 10}\n",
      "{'x': 20}\n"
     ]
    }
   ],
   "source": [
    "class A:\n",
    "    def __init__(self,):\n",
    "        self.x = {\n",
    "            'x': 10\n",
    "        }\n",
    "\n",
    "    def todo(self):\n",
    "        temp = self.x \n",
    "        temp['x'] = 20\n",
    "\n",
    "obj = A()\n",
    "print(obj.x)\n",
    "obj.todo()\n",
    "print(obj.x)\n"
   ]
  },
  {
   "cell_type": "code",
   "execution_count": 2,
   "metadata": {},
   "outputs": [
    {
     "name": "stdout",
     "output_type": "stream",
     "text": [
      "yo\n"
     ]
    }
   ],
   "source": [
    "while True:\n",
    "    print(\"yo\")\n",
    "    if 1: \n",
    "        break\n",
    "\n",
    "    for a in range(10):\n",
    "        print(a)"
   ]
  },
  {
   "cell_type": "code",
   "execution_count": 2,
   "metadata": {},
   "outputs": [],
   "source": [
    "import torch\n",
    "import torch.nn as nn\n",
    "import torch.nn.functional as F\n",
    "import numpy as np\n",
    "import random\n",
    "from typing import Tuple, List, Optional, Dict"
   ]
  },
  {
   "cell_type": "code",
   "execution_count": 7,
   "metadata": {},
   "outputs": [],
   "source": [
    "class SnakeModel(nn.Module):\n",
    "    \"\"\"\n",
    "    the output is interpreted as follows\n",
    "    right, left, up, down\n",
    "    \"\"\"\n",
    "\n",
    "    def __init__(self,\n",
    "                 input_units=4,\n",
    "                 hidden_units=2,\n",
    "                 output_units=1):\n",
    "        super().__init__()\n",
    "        self.l = nn.Sequential(\n",
    "            nn.Linear(input_units, hidden_units),\n",
    "            nn.ELU(),\n",
    "            nn.Linear(hidden_units, output_units),\n",
    "            nn.Softmax(dim=-1),\n",
    "        )\n",
    "\n",
    "    def forward(self, state: torch.Tensor) -> torch.Tensor:\n",
    "        x = self.l(state)\n",
    "        return x"
   ]
  },
  {
   "cell_type": "code",
   "execution_count": 29,
   "metadata": {},
   "outputs": [],
   "source": [
    "m1 = SnakeModel()\n",
    "m2 = SnakeModel()"
   ]
  },
  {
   "cell_type": "code",
   "execution_count": 48,
   "metadata": {},
   "outputs": [
    {
     "data": {
      "text/plain": [
       "OrderedDict([('l.0.weight',\n",
       "              tensor([[ 0.1573,  0.3781,  0.4966, -0.0021],\n",
       "                      [ 0.3545, -0.0965, -0.4449,  0.2109]])),\n",
       "             ('l.0.bias', tensor([-0.1724,  0.0932])),\n",
       "             ('l.2.weight', tensor([[-0.5984, -0.1193]])),\n",
       "             ('l.2.bias', tensor([-0.6479]))])"
      ]
     },
     "execution_count": 48,
     "metadata": {},
     "output_type": "execute_result"
    }
   ],
   "source": [
    "m1.state_dict()"
   ]
  },
  {
   "cell_type": "code",
   "execution_count": 38,
   "metadata": {},
   "outputs": [
    {
     "name": "stdout",
     "output_type": "stream",
     "text": [
      "l.0.weight\n",
      "Parameter containing:\n",
      "tensor([[ 0.1573,  0.3781,  0.4966, -0.0021],\n",
      "        [ 0.3545, -0.0965, -0.4449,  0.2109]], requires_grad=True)\n",
      "\n",
      "l.2.weight\n",
      "Parameter containing:\n",
      "tensor([[-0.5984, -0.1193]], requires_grad=True)\n",
      "\n"
     ]
    }
   ],
   "source": [
    "for n, a in m1.named_parameters():\n",
    "    if \"weight\" in n:\n",
    "        print(n)\n",
    "        print(a)\n",
    "        print()"
   ]
  },
  {
   "cell_type": "code",
   "execution_count": 137,
   "metadata": {},
   "outputs": [
    {
     "name": "stdout",
     "output_type": "stream",
     "text": [
      "l.0.weight Parameter containing:\n",
      "tensor([[ 0.2062,  0.2232,  0.2643,  0.0694],\n",
      "        [-0.1394,  0.2161, -0.2874,  0.1666]], requires_grad=True)\n",
      "l.0.bias Parameter containing:\n",
      "tensor([-0.0912,  0.0815], requires_grad=True)\n",
      "l.2.weight Parameter containing:\n",
      "tensor([[0.2655, 0.4711]], requires_grad=True)\n",
      "l.2.bias Parameter containing:\n",
      "tensor([0.1355], requires_grad=True)\n"
     ]
    }
   ],
   "source": [
    "new_m = SnakeModel()\n",
    "for n, a in new_m.named_parameters():\n",
    "    print(n, a)"
   ]
  },
  {
   "cell_type": "code",
   "execution_count": 138,
   "metadata": {},
   "outputs": [],
   "source": [
    "# with torch.no_grad():\n",
    "for (n1, a1), (n2, a2), (n3, a3) in zip(m1.named_parameters(), m2.named_parameters(), new_m.named_parameters()):\n",
    "    with torch.no_grad():\n",
    "        if \"weight\" in n3:\n",
    "            a3.copy_(a1 * 0.5 + a2 * 0.5)"
   ]
  },
  {
   "cell_type": "code",
   "execution_count": 139,
   "metadata": {},
   "outputs": [
    {
     "name": "stdout",
     "output_type": "stream",
     "text": [
      "l.0.weight Parameter containing:\n",
      "tensor([[ 0.0206,  0.0442,  0.0253, -0.1082],\n",
      "        [-0.0612, -0.0072,  0.0104, -0.0377]], requires_grad=True)\n",
      "l.0.bias Parameter containing:\n",
      "tensor([-0.0912,  0.0815], requires_grad=True)\n",
      "l.2.weight Parameter containing:\n",
      "tensor([[-0.0433,  0.3306]], requires_grad=True)\n",
      "l.2.bias Parameter containing:\n",
      "tensor([0.1355], requires_grad=True)\n"
     ]
    }
   ],
   "source": [
    "# new_m = SnakeModel()\n",
    "for n, a in new_m.named_parameters():\n",
    "    print(n, a)"
   ]
  },
  {
   "cell_type": "code",
   "execution_count": 108,
   "metadata": {},
   "outputs": [
    {
     "name": "stdout",
     "output_type": "stream",
     "text": [
      "l.0.weight Parameter containing:\n",
      "tensor([[-0.3125,  0.4888, -0.1942, -0.1477],\n",
      "        [ 0.4173, -0.2080, -0.2899, -0.0647]], requires_grad=True)\n",
      "l.0.bias Parameter containing:\n",
      "tensor([-0.0384, -0.1317], requires_grad=True)\n",
      "l.2.weight Parameter containing:\n",
      "tensor([[0.2259, 0.2261]], requires_grad=True)\n",
      "l.2.bias Parameter containing:\n",
      "tensor([0.4160], requires_grad=True)\n"
     ]
    }
   ],
   "source": [
    "new_m = SnakeModel()\n",
    "for n, a in new_m.named_parameters():\n",
    "    print(n, a)"
   ]
  },
  {
   "cell_type": "code",
   "execution_count": 22,
   "metadata": {},
   "outputs": [
    {
     "data": {
      "text/plain": [
       "1"
      ]
     },
     "execution_count": 22,
     "metadata": {},
     "output_type": "execute_result"
    }
   ],
   "source": [
    "2 // 2"
   ]
  },
  {
   "cell_type": "code",
   "execution_count": 28,
   "metadata": {},
   "outputs": [
    {
     "name": "stdout",
     "output_type": "stream",
     "text": [
      "1000\n",
      "500\n",
      "250\n",
      "124\n",
      "62\n",
      "30\n",
      "14\n",
      "6\n",
      "2\n"
     ]
    }
   ],
   "source": [
    "a = 1000\n",
    "while a != 0:\n",
    "    print(a)\n",
    "    top = a // 2\n",
    "    if top <= 1:\n",
    "        break\n",
    "\n",
    "    if top % 2 != 0:\n",
    "        top -= 1\n",
    "    a = top "
   ]
  },
  {
   "cell_type": "code",
   "execution_count": 94,
   "metadata": {},
   "outputs": [
    {
     "name": "stdout",
     "output_type": "stream",
     "text": [
      "{0: {'a': 10}, 1: {'a': 100}}\n",
      "{1: {'a': 100}, 0: {'a': 10}}\n"
     ]
    },
    {
     "data": {
      "text/plain": [
       "dict"
      ]
     },
     "execution_count": 94,
     "metadata": {},
     "output_type": "execute_result"
    }
   ],
   "source": [
    "d = dict()\n",
    "d[0] = {\n",
    "    'a': 10,\n",
    "}\n",
    "d[1] = {\n",
    "    'a': 100\n",
    "}\n",
    "\n",
    "new_dict = dict(sorted(d.items(), key = lambda item: -item[1]['a']))\n",
    "print(d), print(new_dict), \n",
    "type(new_dict)"
   ]
  },
  {
   "cell_type": "code",
   "execution_count": 141,
   "metadata": {},
   "outputs": [
    {
     "name": "stdout",
     "output_type": "stream",
     "text": [
      "0\n",
      "2\n"
     ]
    }
   ],
   "source": [
    "for a in range(0, 4, 2):\n",
    "    print(a)"
   ]
  }
 ],
 "metadata": {
  "kernelspec": {
   "display_name": "Python 3",
   "language": "python",
   "name": "python3"
  },
  "language_info": {
   "codemirror_mode": {
    "name": "ipython",
    "version": 3
   },
   "file_extension": ".py",
   "mimetype": "text/x-python",
   "name": "python",
   "nbconvert_exporter": "python",
   "pygments_lexer": "ipython3",
   "version": "3.11.3"
  }
 },
 "nbformat": 4,
 "nbformat_minor": 2
}
